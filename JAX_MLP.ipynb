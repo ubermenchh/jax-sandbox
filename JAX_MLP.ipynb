{
  "nbformat": 4,
  "nbformat_minor": 0,
  "metadata": {
    "colab": {
      "provenance": [],
      "gpuType": "T4",
      "authorship_tag": "ABX9TyMZM0vBUEnuNnjAwrp6TCcF",
      "include_colab_link": true
    },
    "kernelspec": {
      "name": "python3",
      "display_name": "Python 3"
    },
    "language_info": {
      "name": "python"
    },
    "accelerator": "GPU"
  },
  "cells": [
    {
      "cell_type": "markdown",
      "metadata": {
        "id": "view-in-github",
        "colab_type": "text"
      },
      "source": [
        "<a href=\"https://colab.research.google.com/github/ubermenchh/jax-sandbox/blob/main/JAX_MLP.ipynb\" target=\"_parent\"><img src=\"https://colab.research.google.com/assets/colab-badge.svg\" alt=\"Open In Colab\"/></a>"
      ]
    },
    {
      "cell_type": "code",
      "execution_count": 1,
      "metadata": {
        "id": "dd9-A2KeKrYb"
      },
      "outputs": [],
      "source": [
        "import jax\n",
        "import jax.numpy as jnp\n",
        "from jax.scipy.special import logsumexp\n",
        "from jax import jit, grad, vmap, pmap, value_and_grad\n",
        "\n",
        "from torchvision.datasets import MNIST\n",
        "from torch.utils.data import DataLoader\n",
        "import numpy as np\n",
        "\n",
        "from typing import List"
      ]
    },
    {
      "cell_type": "code",
      "source": [
        "seed = 69"
      ],
      "metadata": {
        "id": "hrmcm9lWPLUV"
      },
      "execution_count": 2,
      "outputs": []
    },
    {
      "cell_type": "code",
      "source": [
        "def mlp_init(layer_widths: List, parent_key: jax.Array, scale: float=0.01) -> List:\n",
        "    params = []\n",
        "    keys = jax.random.split(parent_key, num=len(layer_widths) - 1)\n",
        "\n",
        "    for in_width, out_width, key in zip(layer_widths[:-1], layer_widths[1:], keys):\n",
        "        weight_key, bias_key = jax.random.split(key)\n",
        "        params.append([\n",
        "            scale * jax.random.normal(weight_key, shape=(out_width, in_width)),\n",
        "            scale * jax.random.normal(bias_key, shape=(out_width,))\n",
        "        ])\n",
        "\n",
        "    return params"
      ],
      "metadata": {
        "id": "GqnI9MU2QM1Y"
      },
      "execution_count": 3,
      "outputs": []
    },
    {
      "cell_type": "code",
      "source": [
        "key = jax.random.PRNGKey(seed)\n",
        "mlp_params = mlp_init([784, 512, 256, 10], key)\n",
        "print(jax.tree.map(lambda x: x.shape, mlp_params))"
      ],
      "metadata": {
        "colab": {
          "base_uri": "https://localhost:8080/"
        },
        "id": "xpH97gAtVg43",
        "outputId": "78128bc9-2cd8-4bd3-fcf4-6bfac555e93a"
      },
      "execution_count": 4,
      "outputs": [
        {
          "output_type": "stream",
          "name": "stdout",
          "text": [
            "[[(512, 784), (512,)], [(256, 512), (256,)], [(10, 256), (10,)]]\n"
          ]
        }
      ]
    },
    {
      "cell_type": "code",
      "source": [
        "def mlp_predict(params: List, x: np.ndarray) -> jax.Array:\n",
        "    hidden_layers = params[:-1]\n",
        "\n",
        "    act = x\n",
        "    for w, b in hidden_layers:\n",
        "        act = jax.nn.relu(jnp.dot(w, act) + b)\n",
        "\n",
        "    w_last, b_last = params[-1]\n",
        "    logits = jnp.dot(w_last, act) + b_last\n",
        "\n",
        "    return logits - logsumexp(logits)"
      ],
      "metadata": {
        "id": "1QoG8AFHVw3J"
      },
      "execution_count": 5,
      "outputs": []
    },
    {
      "cell_type": "code",
      "source": [
        "img_flat = np.random.randn(np.prod((28, 28)))\n",
        "print(img_flat.shape)"
      ],
      "metadata": {
        "colab": {
          "base_uri": "https://localhost:8080/"
        },
        "id": "yMLQhqMHdx-I",
        "outputId": "f43d6413-1ec7-4bf3-9bf6-ea84882c761f"
      },
      "execution_count": 6,
      "outputs": [
        {
          "output_type": "stream",
          "name": "stdout",
          "text": [
            "(784,)\n"
          ]
        }
      ]
    },
    {
      "cell_type": "code",
      "source": [
        "pred = mlp_predict(mlp_params, img_flat)\n",
        "print(pred)"
      ],
      "metadata": {
        "colab": {
          "base_uri": "https://localhost:8080/"
        },
        "id": "Ev0FMSrcd8Zm",
        "outputId": "4fe18477-912e-4190-a874-8a7293e71715"
      },
      "execution_count": 7,
      "outputs": [
        {
          "output_type": "stream",
          "name": "stdout",
          "text": [
            "[-2.2955525 -2.2991154 -2.3055577 -2.2913444 -2.3170183 -2.2944772\n",
            " -2.296421  -2.318961  -2.2915165 -2.3164313]\n"
          ]
        }
      ]
    },
    {
      "cell_type": "code",
      "source": [
        "batched_mlp_predict = vmap(mlp_predict, in_axes=(None, 0))"
      ],
      "metadata": {
        "id": "hm2EnTiaeJpk"
      },
      "execution_count": 8,
      "outputs": []
    },
    {
      "cell_type": "code",
      "source": [
        "imgs_flat = np.random.randn(16, np.prod((28, 28)))\n",
        "print(imgs_flat.shape)"
      ],
      "metadata": {
        "colab": {
          "base_uri": "https://localhost:8080/"
        },
        "id": "m50ory8wecQc",
        "outputId": "a3c0f4a4-0f3a-49f2-e7f9-60aa0e58e4ec"
      },
      "execution_count": 9,
      "outputs": [
        {
          "output_type": "stream",
          "name": "stdout",
          "text": [
            "(16, 784)\n"
          ]
        }
      ]
    },
    {
      "cell_type": "code",
      "source": [
        "preds = batched_mlp_predict(mlp_params, imgs_flat)\n",
        "print(preds.shape)"
      ],
      "metadata": {
        "colab": {
          "base_uri": "https://localhost:8080/"
        },
        "id": "auDyqGMLfjrR",
        "outputId": "cbfe1469-437a-47ca-a81f-e555b4ee07fc"
      },
      "execution_count": 10,
      "outputs": [
        {
          "output_type": "stream",
          "name": "stdout",
          "text": [
            "(16, 10)\n"
          ]
        }
      ]
    },
    {
      "cell_type": "code",
      "source": [
        "def custom_transform(x: np.ndarray) -> np.ndarray:\n",
        "    return np.ravel(np.array(x, dtype=np.float32))"
      ],
      "metadata": {
        "id": "lEAaFqAOfqe5"
      },
      "execution_count": 11,
      "outputs": []
    },
    {
      "cell_type": "code",
      "source": [
        "def custom_collate_fn(batch):\n",
        "    transposed_data = list(zip(*batch))\n",
        "\n",
        "    labels = np.array(transposed_data[1])\n",
        "    imgs = np.stack(transposed_data[0])\n",
        "\n",
        "    return imgs, labels"
      ],
      "metadata": {
        "id": "L7P61v96iJoq"
      },
      "execution_count": 12,
      "outputs": []
    },
    {
      "cell_type": "code",
      "source": [
        "batch_size = 128\n",
        "train_dataset = MNIST(root=\"train_data\", train=True, download=True, transform=custom_transform)\n",
        "test_dataset = MNIST(root=\"valid_data\", train=False, download=True, transform=custom_transform)\n",
        "\n",
        "train_dataloader = DataLoader(train_dataset, batch_size, shuffle=True, collate_fn=custom_collate_fn, drop_last=True)\n",
        "test_dataloader = DataLoader(test_dataset, batch_size, shuffle=False, collate_fn=custom_collate_fn, drop_last=True)"
      ],
      "metadata": {
        "colab": {
          "base_uri": "https://localhost:8080/"
        },
        "collapsed": true,
        "id": "Kr2AP219iZ28",
        "outputId": "64a98e5a-242b-4e4b-cd5d-5d0dbd973f5a"
      },
      "execution_count": 13,
      "outputs": [
        {
          "output_type": "stream",
          "name": "stdout",
          "text": [
            "Downloading http://yann.lecun.com/exdb/mnist/train-images-idx3-ubyte.gz\n",
            "Failed to download (trying next):\n",
            "HTTP Error 403: Forbidden\n",
            "\n",
            "Downloading https://ossci-datasets.s3.amazonaws.com/mnist/train-images-idx3-ubyte.gz\n",
            "Downloading https://ossci-datasets.s3.amazonaws.com/mnist/train-images-idx3-ubyte.gz to train_data/MNIST/raw/train-images-idx3-ubyte.gz\n"
          ]
        },
        {
          "output_type": "stream",
          "name": "stderr",
          "text": [
            "100%|██████████| 9.91M/9.91M [00:01<00:00, 5.08MB/s]\n"
          ]
        },
        {
          "output_type": "stream",
          "name": "stdout",
          "text": [
            "Extracting train_data/MNIST/raw/train-images-idx3-ubyte.gz to train_data/MNIST/raw\n",
            "\n",
            "Downloading http://yann.lecun.com/exdb/mnist/train-labels-idx1-ubyte.gz\n",
            "Failed to download (trying next):\n",
            "HTTP Error 403: Forbidden\n",
            "\n",
            "Downloading https://ossci-datasets.s3.amazonaws.com/mnist/train-labels-idx1-ubyte.gz\n",
            "Downloading https://ossci-datasets.s3.amazonaws.com/mnist/train-labels-idx1-ubyte.gz to train_data/MNIST/raw/train-labels-idx1-ubyte.gz\n"
          ]
        },
        {
          "output_type": "stream",
          "name": "stderr",
          "text": [
            "100%|██████████| 28.9k/28.9k [00:00<00:00, 135kB/s]\n"
          ]
        },
        {
          "output_type": "stream",
          "name": "stdout",
          "text": [
            "Extracting train_data/MNIST/raw/train-labels-idx1-ubyte.gz to train_data/MNIST/raw\n",
            "\n",
            "Downloading http://yann.lecun.com/exdb/mnist/t10k-images-idx3-ubyte.gz\n",
            "Failed to download (trying next):\n",
            "HTTP Error 403: Forbidden\n",
            "\n",
            "Downloading https://ossci-datasets.s3.amazonaws.com/mnist/t10k-images-idx3-ubyte.gz\n",
            "Downloading https://ossci-datasets.s3.amazonaws.com/mnist/t10k-images-idx3-ubyte.gz to train_data/MNIST/raw/t10k-images-idx3-ubyte.gz\n"
          ]
        },
        {
          "output_type": "stream",
          "name": "stderr",
          "text": [
            "100%|██████████| 1.65M/1.65M [00:01<00:00, 1.28MB/s]\n"
          ]
        },
        {
          "output_type": "stream",
          "name": "stdout",
          "text": [
            "Extracting train_data/MNIST/raw/t10k-images-idx3-ubyte.gz to train_data/MNIST/raw\n",
            "\n",
            "Downloading http://yann.lecun.com/exdb/mnist/t10k-labels-idx1-ubyte.gz\n",
            "Failed to download (trying next):\n",
            "HTTP Error 403: Forbidden\n",
            "\n",
            "Downloading https://ossci-datasets.s3.amazonaws.com/mnist/t10k-labels-idx1-ubyte.gz\n",
            "Downloading https://ossci-datasets.s3.amazonaws.com/mnist/t10k-labels-idx1-ubyte.gz to train_data/MNIST/raw/t10k-labels-idx1-ubyte.gz\n"
          ]
        },
        {
          "output_type": "stream",
          "name": "stderr",
          "text": [
            "100%|██████████| 4.54k/4.54k [00:00<00:00, 3.30MB/s]\n"
          ]
        },
        {
          "output_type": "stream",
          "name": "stdout",
          "text": [
            "Extracting train_data/MNIST/raw/t10k-labels-idx1-ubyte.gz to train_data/MNIST/raw\n",
            "\n",
            "Downloading http://yann.lecun.com/exdb/mnist/train-images-idx3-ubyte.gz\n",
            "Failed to download (trying next):\n",
            "HTTP Error 403: Forbidden\n",
            "\n",
            "Downloading https://ossci-datasets.s3.amazonaws.com/mnist/train-images-idx3-ubyte.gz\n",
            "Downloading https://ossci-datasets.s3.amazonaws.com/mnist/train-images-idx3-ubyte.gz to valid_data/MNIST/raw/train-images-idx3-ubyte.gz\n"
          ]
        },
        {
          "output_type": "stream",
          "name": "stderr",
          "text": [
            "100%|██████████| 9.91M/9.91M [00:02<00:00, 4.55MB/s]\n"
          ]
        },
        {
          "output_type": "stream",
          "name": "stdout",
          "text": [
            "Extracting valid_data/MNIST/raw/train-images-idx3-ubyte.gz to valid_data/MNIST/raw\n",
            "\n",
            "Downloading http://yann.lecun.com/exdb/mnist/train-labels-idx1-ubyte.gz\n",
            "Failed to download (trying next):\n",
            "HTTP Error 403: Forbidden\n",
            "\n",
            "Downloading https://ossci-datasets.s3.amazonaws.com/mnist/train-labels-idx1-ubyte.gz\n",
            "Downloading https://ossci-datasets.s3.amazonaws.com/mnist/train-labels-idx1-ubyte.gz to valid_data/MNIST/raw/train-labels-idx1-ubyte.gz\n"
          ]
        },
        {
          "output_type": "stream",
          "name": "stderr",
          "text": [
            "100%|██████████| 28.9k/28.9k [00:00<00:00, 64.0kB/s]\n"
          ]
        },
        {
          "output_type": "stream",
          "name": "stdout",
          "text": [
            "Extracting valid_data/MNIST/raw/train-labels-idx1-ubyte.gz to valid_data/MNIST/raw\n",
            "\n",
            "Downloading http://yann.lecun.com/exdb/mnist/t10k-images-idx3-ubyte.gz\n",
            "Failed to download (trying next):\n",
            "HTTP Error 403: Forbidden\n",
            "\n",
            "Downloading https://ossci-datasets.s3.amazonaws.com/mnist/t10k-images-idx3-ubyte.gz\n",
            "Downloading https://ossci-datasets.s3.amazonaws.com/mnist/t10k-images-idx3-ubyte.gz to valid_data/MNIST/raw/t10k-images-idx3-ubyte.gz\n"
          ]
        },
        {
          "output_type": "stream",
          "name": "stderr",
          "text": [
            "100%|██████████| 1.65M/1.65M [00:01<00:00, 1.27MB/s]\n"
          ]
        },
        {
          "output_type": "stream",
          "name": "stdout",
          "text": [
            "Extracting valid_data/MNIST/raw/t10k-images-idx3-ubyte.gz to valid_data/MNIST/raw\n",
            "\n",
            "Downloading http://yann.lecun.com/exdb/mnist/t10k-labels-idx1-ubyte.gz\n",
            "Failed to download (trying next):\n",
            "HTTP Error 403: Forbidden\n",
            "\n",
            "Downloading https://ossci-datasets.s3.amazonaws.com/mnist/t10k-labels-idx1-ubyte.gz\n",
            "Downloading https://ossci-datasets.s3.amazonaws.com/mnist/t10k-labels-idx1-ubyte.gz to valid_data/MNIST/raw/t10k-labels-idx1-ubyte.gz\n"
          ]
        },
        {
          "output_type": "stream",
          "name": "stderr",
          "text": [
            "100%|██████████| 4.54k/4.54k [00:00<00:00, 3.20MB/s]"
          ]
        },
        {
          "output_type": "stream",
          "name": "stdout",
          "text": [
            "Extracting valid_data/MNIST/raw/t10k-labels-idx1-ubyte.gz to valid_data/MNIST/raw\n",
            "\n"
          ]
        },
        {
          "output_type": "stream",
          "name": "stderr",
          "text": [
            "\n"
          ]
        }
      ]
    },
    {
      "cell_type": "code",
      "source": [
        "batch_data = next(iter(train_dataloader))\n",
        "imgs = batch_data[0]\n",
        "labels = batch_data[1]\n",
        "print(imgs.shape, imgs[0].dtype, labels.shape, labels[0].dtype)"
      ],
      "metadata": {
        "colab": {
          "base_uri": "https://localhost:8080/"
        },
        "id": "CG14o3NEjpv8",
        "outputId": "f1aba28c-e27c-4cbc-90b9-63b2f1e6dd60"
      },
      "execution_count": 14,
      "outputs": [
        {
          "output_type": "stream",
          "name": "stdout",
          "text": [
            "(128, 784) float32 (128,) int64\n"
          ]
        }
      ]
    },
    {
      "cell_type": "code",
      "source": [
        "train_images = jnp.array(train_dataset.data).reshape(len(train_dataset), -1)\n",
        "train_labels = jnp.array(train_dataset.targets)\n",
        "\n",
        "test_images = jnp.array(test_dataset.data).reshape(len(test_dataset), -1)\n",
        "test_labels = jnp.array(test_dataset.targets)"
      ],
      "metadata": {
        "id": "cZvXBvNaj53B"
      },
      "execution_count": 15,
      "outputs": []
    },
    {
      "cell_type": "code",
      "source": [
        "num_epochs = 5\n",
        "\n",
        "def loss_fn(params, imgs, gt_labels):\n",
        "    preds = batched_mlp_predict(params, imgs)\n",
        "    return -jnp.mean(preds * gt_labels)"
      ],
      "metadata": {
        "id": "hhzjGqnTkeIU"
      },
      "execution_count": 16,
      "outputs": []
    },
    {
      "cell_type": "code",
      "source": [
        "def accuracy(params, dataset_imgs, dataset_labels):\n",
        "    pred_classes = jnp.argmax(batched_mlp_predict(params, dataset_imgs), axis=1)\n",
        "    return jnp.mean(dataset_labels == pred_classes)"
      ],
      "metadata": {
        "id": "KqLaBVAbk8Qc"
      },
      "execution_count": 17,
      "outputs": []
    },
    {
      "cell_type": "code",
      "source": [
        "@jit\n",
        "def update(params, imgs, gt_labels, lr=0.01):\n",
        "    loss, grads = value_and_grad(loss_fn)(params, imgs, gt_labels)\n",
        "\n",
        "    return loss, jax.tree.map(lambda p, g: p - lr * g, params, grads)"
      ],
      "metadata": {
        "id": "_bBuGS_YlR52"
      },
      "execution_count": 18,
      "outputs": []
    },
    {
      "cell_type": "code",
      "source": [
        "mlp_params = mlp_init([np.prod((28, 28)), 512, 256, len(MNIST.classes)], key)\n",
        "\n",
        "for epoch in range(num_epochs):\n",
        "    for cnt, (imgs, labels) in enumerate(train_dataloader):\n",
        "        gt_labels = jax.nn.one_hot(labels, len(MNIST.classes))\n",
        "        loss, mlp_params = update(mlp_params, imgs, gt_labels)\n",
        "\n",
        "        if cnt % 50 == 0:\n",
        "            print(loss)\n",
        "\n",
        "    print(f\"Epoch {epoch}, train_acc = {accuracy(mlp_params, train_images, train_labels)}, test_acc = {accuracy(mlp_params, test_images, test_labels)}\")"
      ],
      "metadata": {
        "colab": {
          "base_uri": "https://localhost:8080/"
        },
        "id": "Aca373vjl8-D",
        "outputId": "52f1e644-bc10-4710-d24e-c908313595ff"
      },
      "execution_count": 19,
      "outputs": [
        {
          "output_type": "stream",
          "name": "stdout",
          "text": [
            "0.23481856\n",
            "0.10319078\n",
            "0.063640505\n",
            "0.046268925\n",
            "0.034167845\n",
            "0.043269362\n",
            "0.043909293\n",
            "0.029232448\n",
            "0.03529191\n",
            "0.02399239\n",
            "Epoch 0, train_acc = 0.9135000109672546, test_acc = 0.9175999760627747\n",
            "0.024508463\n",
            "0.019911421\n",
            "0.042556442\n",
            "0.02895428\n",
            "0.033896115\n",
            "0.025443822\n",
            "0.026979063\n",
            "0.019834658\n",
            "0.02178892\n",
            "0.019899799\n",
            "Epoch 1, train_acc = 0.9335833191871643, test_acc = 0.9333999752998352\n",
            "0.03427101\n",
            "0.023799822\n",
            "0.023770044\n",
            "0.01940826\n",
            "0.027531857\n",
            "0.020550868\n",
            "0.035095196\n",
            "0.017309645\n",
            "0.016257843\n",
            "0.013646779\n",
            "Epoch 2, train_acc = 0.9455666542053223, test_acc = 0.9440000057220459\n",
            "0.011687232\n",
            "0.017992595\n",
            "0.025748422\n",
            "0.012829256\n",
            "0.0129314205\n",
            "0.0170866\n",
            "0.01944495\n",
            "0.030684775\n",
            "0.023614053\n",
            "0.023939809\n",
            "Epoch 3, train_acc = 0.9529833197593689, test_acc = 0.9479999542236328\n",
            "0.016063685\n",
            "0.01219356\n",
            "0.015527229\n",
            "0.009730904\n",
            "0.025672588\n",
            "0.019194448\n",
            "0.008446378\n",
            "0.023193927\n",
            "0.01647515\n",
            "0.019153625\n",
            "Epoch 4, train_acc = 0.9600833654403687, test_acc = 0.9565999507904053\n"
          ]
        }
      ]
    },
    {
      "cell_type": "code",
      "source": [
        "imgs, labels = next(iter(test_dataloader))\n",
        "img = imgs[69].reshape((28, 28))\n",
        "gt_label = labels[69]\n",
        "print(img.shape)"
      ],
      "metadata": {
        "colab": {
          "base_uri": "https://localhost:8080/"
        },
        "id": "F1ffFT5HnHY6",
        "outputId": "d03a8a67-c8f5-4a97-8d81-abeace691c51"
      },
      "execution_count": 20,
      "outputs": [
        {
          "output_type": "stream",
          "name": "stdout",
          "text": [
            "(28, 28)\n"
          ]
        }
      ]
    },
    {
      "cell_type": "code",
      "source": [
        "import matplotlib.pyplot as plt"
      ],
      "metadata": {
        "id": "PYLfHsvqndKi"
      },
      "execution_count": 21,
      "outputs": []
    },
    {
      "cell_type": "code",
      "source": [
        "pred = jnp.argmax(mlp_predict(mlp_params, np.ravel(img)))\n",
        "print(\"Pred:\", pred)\n",
        "print(\"Label:\", gt_label)\n",
        "\n",
        "plt.imshow(img); plt.show()"
      ],
      "metadata": {
        "colab": {
          "base_uri": "https://localhost:8080/",
          "height": 467
        },
        "id": "meaQBWZsnf3F",
        "outputId": "c25e8d0e-8068-456d-b92d-0c01b1d36929"
      },
      "execution_count": 22,
      "outputs": [
        {
          "output_type": "stream",
          "name": "stdout",
          "text": [
            "Pred: 0\n",
            "Label: 0\n"
          ]
        },
        {
          "output_type": "display_data",
          "data": {
            "text/plain": [
              "<Figure size 640x480 with 1 Axes>"
            ],
            "image/png": "[encoded data removed]"
          },
          "metadata": {}
        }
      ]
    },
    {
      "cell_type": "code",
      "source": [],
      "metadata": {
        "id": "RDq72dYrnuu5"
      },
      "execution_count": null,
      "outputs": []
    }
  ]
}